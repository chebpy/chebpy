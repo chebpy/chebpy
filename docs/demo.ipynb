{
 "cells": [
  {
   "cell_type": "markdown",
   "source": [
    "# Demo"
   ],
   "metadata": {}
  },
  {
   "cell_type": "code",
   "execution_count": null,
   "source": [
    "# load all required packages at the start\n",
    "import numpy as np\n",
    "import matplotlib.pyplot as plt\n",
    "\n",
    "from chebpy import chebfun"
   ],
   "outputs": [],
   "metadata": {}
  },
  {
   "cell_type": "markdown",
   "source": [
    "The function ``chebfun`` behaves in essentially the same way as its MATLAB counterpart. A good way to begin is to type:"
   ],
   "metadata": {}
  },
  {
   "cell_type": "code",
   "execution_count": null,
   "source": [
    "x = chebfun('x', [0, 10])\n",
    "x #TODO: why doesn't repr or str work with print?"
   ],
   "outputs": [],
   "metadata": {}
  },
  {
   "cell_type": "markdown",
   "source": [
    "What's happened here is we've instantiated a numerical representation of the identity function on the interval `[0,10]` and assigned this to a computer variable `x`. This particular representation has length 2, meaning that it is a degree one polynomial defined via two degrees of freedom (as you would expect of a linear function).\n",
    "\n",
    "An intuitive set of composition-like operations can now be performed. For instance here is the specification of a function `f` that oscillates with two modes:"
   ],
   "metadata": {}
  },
  {
   "cell_type": "code",
   "execution_count": null,
   "source": [
    "f = np.sin(x) + np.sin(5*x)\n",
    "f #TODO: why doesn't repr or str work with print?"
   ],
   "outputs": [],
   "metadata": {}
  },
  {
   "cell_type": "markdown",
   "source": [
    "The zeros of f can be computed via `roots`, which behind the scenes is implemented via a recursive subdivision algorithm in which a number of Colleague Matrix eigenvalue sub-problems are solved:"
   ],
   "metadata": {}
  },
  {
   "cell_type": "code",
   "execution_count": null,
   "source": [
    "r = f.roots()\n",
    "r #TODO: why doesn't repr or str work with print?"
   ],
   "outputs": [],
   "metadata": {}
  },
  {
   "cell_type": "markdown",
   "source": [
    "By default ChebPy computations are accurate to machine precision, or approximately fifteen digits in double-precision arithmetic (see also the `UserPrefs` interface [here](./implementation.ipynb)).\n",
    "\n",
    "We can verify this for the computed roots of `f` by typing:"
   ],
   "metadata": {}
  },
  {
   "cell_type": "code",
   "execution_count": null,
   "source": [
    "f(r)"
   ],
   "outputs": [],
   "metadata": {}
  },
  {
   "cell_type": "markdown",
   "source": [
    "The function and its roots can be plotted together as follows:\n"
   ],
   "metadata": {}
  },
  {
   "cell_type": "code",
   "execution_count": null,
   "source": [
    "ax = f.plot()\n",
    "ax.plot(r, f(r), 'or')\n",
    "plt.show()"
   ],
   "outputs": [],
   "metadata": {}
  },
  {
   "cell_type": "markdown",
   "source": [
    "Calculus operations are natively possible with Chebfun objects. For example here is the derivative and indefinite integral of `f`:"
   ],
   "metadata": {}
  },
  {
   "cell_type": "code",
   "execution_count": null,
   "source": [
    "Df = f.diff()\n",
    "If = f.cumsum()\n",
    "f.plot()\n",
    "Df.plot()\n",
    "If.plot()\n",
    "plt.show()"
   ],
   "outputs": [],
   "metadata": {}
  },
  {
   "cell_type": "markdown",
   "source": [
    "One can verify analytically that the exact value of the definite integral here is `1.2 - cos(10) - 0.2cos(50)`.\n",
    "\n",
    "This matches our numerical integral (via Clenshaw-Curtis quadrature), which is computable in ChebPy via the `sum` command."
   ],
   "metadata": {}
  },
  {
   "cell_type": "code",
   "execution_count": null,
   "source": [
    "I_ana = 1.2 - np.cos(10) - 0.2 * np.cos(50)\n",
    "I_num = f.sum()\n",
    "print(f'analytical : I={I_ana}')\n",
    "print(f'    ChebPy : I={I_num}')"
   ],
   "outputs": [],
   "metadata": {}
  },
  {
   "cell_type": "markdown",
   "source": [
    "## Discontinuities\n",
    "\n",
    "Chebfun is capable of handling certain classes of mathematical nonsmoothness. For example, here we compute the pointwise maximum of two functions, which results in a 'piecewise-smooth' concatenation of twelve individual pieces (in Chebfun & ChebPy terminology this is a collection of 'Funs'). The breakpoints between the pieces (Funs) have been determined by ChebPy in the background by solving the corresponding root-finding problem."
   ],
   "metadata": {}
  },
  {
   "cell_type": "code",
   "execution_count": null,
   "source": [
    "g = x/5 - 1\n",
    "h = f.maximum(g)\n",
    "h"
   ],
   "outputs": [],
   "metadata": {}
  },
  {
   "cell_type": "markdown",
   "source": [
    "Here's a plot of both `f` and `g`, and their maximum, `h`:"
   ],
   "metadata": {}
  },
  {
   "cell_type": "code",
   "execution_count": null,
   "source": [
    "fig, ax = plt.subplots()\n",
    "f.plot(ax=ax, linewidth=1, linestyle='--', label='f')\n",
    "g.plot(ax=ax, linewidth=1, linestyle='--', label='g')\n",
    "h.plot(ax=ax, label='max(f, g)')\n",
    "ax.set_ylim([-2.5, 2.5])\n",
    "ax.legend()\n",
    "plt.show()"
   ],
   "outputs": [],
   "metadata": {}
  },
  {
   "cell_type": "markdown",
   "source": [
    "The function `h` is a further Chebfun representation (Chebfun operations such as this are closures) and thus the same set of operations can be applied as normal. Here for instance is the exponential of `h` and its integral:"
   ],
   "metadata": {}
  },
  {
   "cell_type": "code",
   "execution_count": null,
   "source": [
    "np.exp(h).plot()\n",
    "plt.show()\n",
    "print(f'integral: {np.exp(h).sum()}')"
   ],
   "outputs": [],
   "metadata": {}
  },
  {
   "cell_type": "markdown",
   "source": [
    "## Gaussian distribution\n",
    "\n",
    "Here's a further example, this time related to statistics. We consider the following Chebfun representation of the standardised Gaussian distribution, using a sufficiently wide interval as to facilitate a machine-precision representation. On this occasion we utlilise a slightly different (but still perfectly valid) approach to construction whereby we supply the function handle (in this case, a Python lambda, but more generally any object in possession of a `__call__` attribute) together with the interval of definition."
   ],
   "metadata": {}
  },
  {
   "cell_type": "code",
   "execution_count": null,
   "source": [
    "def gaussian(x): return 1/np.sqrt(2*np.pi) * np.exp(-.5*x**2)\n",
    "pdf = chebfun(gaussian, [-15, 15])\n",
    "ax = pdf.plot()\n",
    "ax.set_ylim([-.05, .45])\n",
    "ax.set_title('Standard Gaussian distribution (mean  0, variance 1)')\n",
    "plt.show()"
   ],
   "outputs": [],
   "metadata": {}
  },
  {
   "cell_type": "markdown",
   "source": [
    "The integral of any probability density function should be unity, and this is the case for our numerical approximation:"
   ],
   "metadata": {}
  },
  {
   "cell_type": "code",
   "execution_count": null,
   "source": [
    "print(f'integral : {pdf.sum()}')"
   ],
   "outputs": [],
   "metadata": {}
  },
  {
   "cell_type": "markdown",
   "source": [
    "Suppose we wish to generate quantiles of the distribution. This can be achieved as follows. First we form the cumulative distribution function,\n",
    "computed as the indefinite integral (`cumsum`) of the density:"
   ],
   "metadata": {}
  },
  {
   "cell_type": "code",
   "execution_count": null,
   "source": [
    "cdf = pdf.cumsum()\n",
    "ax = cdf.plot()\n",
    "ax.set_ylim([-0.1, 1.1])\n",
    "plt.show()"
   ],
   "outputs": [],
   "metadata": {}
  },
  {
   "cell_type": "markdown",
   "source": [
    "Then it is simply a case of utilising the `roots` command to determine the standardised score (sometimes known as 'z-score') corresponding to the quantile of interest. For example:"
   ],
   "metadata": {}
  },
  {
   "cell_type": "code",
   "execution_count": null,
   "source": [
    "print('quantile    z-score ')\n",
    "print('--------------------')\n",
    "for quantile in np.arange(.1, .0, -.01):\n",
    "    roots = (cdf-quantile).roots()\n",
    "    print(f'  {quantile*100:2.0f}%       {roots[0]:+5.3f}')"
   ],
   "outputs": [],
   "metadata": {}
  },
  {
   "cell_type": "markdown",
   "source": [
    "Other distributional properties are also computable. Here's how we can compute the first four normalised and centralised moments (Mean, Variance, Skew, Kurtosis):"
   ],
   "metadata": {}
  },
  {
   "cell_type": "code",
   "execution_count": null,
   "source": [
    "x = pdf.x  # identity on domain of pdf\n",
    "m1 = (pdf*x).sum()\n",
    "m2 = (pdf*(x-m1)**2).sum()\n",
    "m3 = (pdf*(x-m1)**3).sum() / m2**1.5\n",
    "m4 = (pdf*(x-m1)**4).sum() / m2**2\n",
    "print('    mean = {:+.4f}'.format(m1))\n",
    "print('variance = {:+.4f}'.format(m2))\n",
    "print('    skew = {:+.4f}'.format(m3))\n",
    "print('kurtosis = {:+.4f}'.format(m4))"
   ],
   "outputs": [],
   "metadata": {}
  }
 ],
 "metadata": {
  "orig_nbformat": 4,
  "language_info": {
   "name": "python",
   "version": "3.9.7",
   "mimetype": "text/x-python",
   "codemirror_mode": {
    "name": "ipython",
    "version": 3
   },
   "pygments_lexer": "ipython3",
   "nbconvert_exporter": "python",
   "file_extension": ".py"
  },
  "kernelspec": {
   "name": "python3",
   "display_name": "Python 3.9.7 64-bit ('chebpy': conda)"
  },
  "interpreter": {
   "hash": "85035035b57e46f15db429fd9a3237faa49dcc02f9375b16804f83652610dff7"
  }
 },
 "nbformat": 4,
 "nbformat_minor": 2
}