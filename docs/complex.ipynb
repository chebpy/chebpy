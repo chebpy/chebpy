{
 "cells": [
  {
   "cell_type": "markdown",
   "source": [
    "# Complex chebfuns\n",
    "\n",
    "As of `v0.4.0` ChebPy supports complex variable representations. This makes it extremely convenient to perform certain computations in the complex plane."
   ],
   "metadata": {}
  },
  {
   "cell_type": "code",
   "execution_count": null,
   "source": [
    "# load all required packages at the start\n",
    "import numpy as np\n",
    "import matplotlib.pyplot as plt\n",
    "\n",
    "from chebpy import chebfun"
   ],
   "outputs": [],
   "metadata": {}
  },
  {
   "cell_type": "markdown",
   "source": [
    "For example here is how we can plot a series of \"Bernstein ellipses\" - important objects in the convergence theory of Chebyshev series approximations for analytic functions. They are computed as transformations of the scaled complex unit circle under the Joukowsky map:"
   ],
   "metadata": {}
  },
  {
   "cell_type": "code",
   "execution_count": null,
   "source": [
    "x = chebfun('x', [-1, 1])\n",
    "z = np.exp(2*np.pi*1j*x)\n",
    "def joukowsky(z): return .5*(z+1/z)\n",
    "for rho in np.arange(1.1, 2, 0.1):\n",
    "    ellipse = joukowsky(rho*z)\n",
    "    ellipse.plot(linewidth=2)\n",
    "plt.show()"
   ],
   "outputs": [],
   "metadata": {}
  },
  {
   "cell_type": "markdown",
   "source": [
    "Per the first line of the above code segment, each of these ellipses is a complex-valued function of the real variable `x` defined on `[-1, 1]`. It is trivial to extract the real and imaginary components and plot these on the `x` domain, which we do for the last (largest) ellipse in the sequence as follows:"
   ],
   "metadata": {}
  },
  {
   "cell_type": "code",
   "execution_count": null,
   "source": [
    "fig, ax = plt.subplots()\n",
    "ellipse.real().plot(linewidth=3, label='real')\n",
    "ellipse.imag().plot(linewidth=3, label='imag')\n",
    "ax.legend()\n",
    "plt.show()"
   ],
   "outputs": [],
   "metadata": {}
  },
  {
   "cell_type": "markdown",
   "source": [
    "Here is an example of using ChebPy to perform a contour integral calculation (replicating Trefethen & Hale's [example](https://www.chebfun.org/examples/complex/KeyholeContour.html)):"
   ],
   "metadata": {}
  },
  {
   "cell_type": "code",
   "execution_count": null,
   "source": [
    "def keyhole(r, R, e):\n",
    "    v = [-R+e*1j, -r+e*1j, -r-e*1j, -R-e*1j]\n",
    "    s = chebfun('x', [0, 1])         # dummy variable\n",
    "    z0 = v[0] + (v[1]-v[0])*s        # top of the keyhole\n",
    "    z1 = v[1] * v[2]**s / v[1]**s    # inner circle\n",
    "    z2 = v[2] + s * (v[3]-v[2])      # bottom of keyhole\n",
    "    z3 = v[3] * v[0]**s / v[3]**s    # outer circle\n",
    "    return z0, z1, z2, z3\n",
    "\n",
    "# set up the keyhole contour\n",
    "z0, z1, z2, z3 = keyhole(r=0.2, R=2, e=0.1)\n",
    "\n",
    "# plot the keyhole contour\n",
    "fig, ax = plt.subplots()\n",
    "kwds = dict(color='b', linewidth=3)\n",
    "z0.plot(ax=ax, **kwds)\n",
    "z1.plot(ax=ax, **kwds)\n",
    "z2.plot(ax=ax, **kwds)\n",
    "z3.plot(ax=ax, **kwds)\n",
    "\n",
    "# plot the branch cut\n",
    "ax.plot([-4, 0], [0, 0], color='r', linewidth=2, linestyle='-')\n",
    "\n",
    "ax.axis('equal')\n",
    "ax.set_xlim([-2.2, 2.2])\n",
    "plt.show()"
   ],
   "outputs": [],
   "metadata": {}
  },
  {
   "cell_type": "markdown",
   "source": [
    "We then perform the numerical integration as follows:"
   ],
   "metadata": {}
  },
  {
   "cell_type": "code",
   "execution_count": null,
   "source": [
    "def f(x): return np.log(x) * np.tanh(x)\n",
    "def contour_integral(z, f):\n",
    "    I = f(z) * z.diff()\n",
    "    return I.sum()\n",
    "\n",
    "y0 = np.sum([contour_integral(z, f) for z in (z0, z1, z2, z3)])    # numerical integral\n",
    "y1 = 4j * np.pi * np.log(np.pi/2)                                  # exact value\n",
    "\n",
    "print(f'   y0 = {y0:+.15f}')\n",
    "print(f'   y1 = {y1:+.15f}')\n",
    "print(f'y0-y1 = {y0-y1:+.15f}')"
   ],
   "outputs": [],
   "metadata": {}
  },
  {
   "cell_type": "markdown",
   "source": [
    "As usual, this yields a high-accuracy result."
   ],
   "metadata": {}
  }
 ],
 "metadata": {
  "orig_nbformat": 4,
  "language_info": {
   "name": "python",
   "version": "3.9.7",
   "mimetype": "text/x-python",
   "codemirror_mode": {
    "name": "ipython",
    "version": 3
   },
   "pygments_lexer": "ipython3",
   "nbconvert_exporter": "python",
   "file_extension": ".py"
  },
  "kernelspec": {
   "name": "python3",
   "display_name": "Python 3.9.7 64-bit ('chebpy': conda)"
  },
  "interpreter": {
   "hash": "85035035b57e46f15db429fd9a3237faa49dcc02f9375b16804f83652610dff7"
  }
 },
 "nbformat": 4,
 "nbformat_minor": 2
}