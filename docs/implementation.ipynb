{
 "cells": [
  {
   "cell_type": "markdown",
   "source": [
    "# Implementation Notes\n",
    "\n",
    "The internals of ChebPy have been designed to resemble the design structure of MATLAB Chebfun. The Chebfun v5 class diagram thus provides a useful map for understanding how the various pieces of ChebPy fit together (diagram courtesy of the Chebfun team, available [here](https://github.com/chebfun/chebfun/wiki/Class-diagram)):\n",
    "\n",
    "![](./chebfun-v5-class-diag.png)\n"
   ],
   "metadata": {}
  },
  {
   "cell_type": "markdown",
   "source": [
    "At this stage, only a relatively small subset of MATLAB Chebfun has been implemented in ChebPy. In the class diagram above, this consists of all the classes traced by the path going up from from `Chebtech2` (green box in the bottom right), to `Chebfun` (blue box near the top-left). More explicitly, the following classes currently exist in ChebPy:\n",
    "\n",
    "- `Chebfun` ([core/chebfun.py](https://github.com/chebpy/chebpy/blob/master/chebpy/core/chebfun.py))\n",
    "- `Fun` ([core/fun.py](https://github.com/chebpy/chebpy/blob/master/chebpy/core/fun.py))\n",
    "- `Classicfun` ([core/classicfun.py](https://github.com/chebpy/chebpy/blob/master/chebpy/core/classicfun.py))\n",
    "- `Bndfun` ([core/bndfun.py](https://github.com/chebpy/chebpy/blob/master/chebpy/core/bndfun.py))\n",
    "- `Onefun` ([core/onefun.py](https://github.com/chebpy/chebpy/blob/master/chebpy/core/onefun.py))\n",
    "- `Smoothfun` ([core/smoothfun.py](https://github.com/chebpy/chebpy/blob/master/chebpy/core/smoothfun.py))\n",
    "- `Chebtech` ([core/chebtech.py](https://github.com/chebpy/chebpy/blob/master/chebpy/core/chebtech.py))\n",
    "- `Chebtech2` ([core/chebtech.py](https://github.com/chebpy/chebpy/blob/master/chebpy/core/chebtech.py))\n",
    "\n",
    "ChebPy additionally provides the following classes which do not appear in their present form in MATLAB Chebfun:\n",
    "\n",
    "- `Interval` ([core/utilities.py](https://github.com/chebpy/chebpy/blob/master/chebpy/core/utilities.py))\n",
    "- `Domain` ([core/utilities.py](https://github.com/chebpy/chebpy/blob/master/chebpy/core/utilities.py))\n",
    "\n",
    "ChebPy allows the user to override some default preferences, similar to what is available through `chebfunpref` in `Chebfun` (bottom right). Not all options are the same, and chebpy allows additional customisation not found in `Chebfun`.\n",
    "\n",
    "- `UserPrefs` ([core/settings.py](https://github.com/chebpy/chebpy/blob/master/chebpy/core/settings.py))\n",
    "\n",
    "The general rule is that each ChebPy class lives in its own python file."
   ],
   "metadata": {}
  },
  {
   "cell_type": "markdown",
   "source": [
    "## Demo\n",
    "One can explore the organisation of the library in practice as follows. We describe the three core components with reference to the colours in the above class diagram."
   ],
   "metadata": {}
  },
  {
   "cell_type": "code",
   "execution_count": null,
   "source": [
    "import numpy as np\n",
    "import matplotlib.pyplot as plt"
   ],
   "outputs": [],
   "metadata": {}
  },
  {
   "cell_type": "markdown",
   "source": [
    "### Chebfun (blue)\n",
    "\n",
    "We'll start by creating an identity chebfun on an arbitrary non-unit interval:"
   ],
   "metadata": {}
  },
  {
   "cell_type": "code",
   "execution_count": null,
   "source": [
    "from chebpy import chebfun\n",
    "\n",
    "x = chebfun('x', [-2, 3])\n",
    "x"
   ],
   "outputs": [],
   "metadata": {}
  },
  {
   "cell_type": "markdown",
   "source": [
    "This variable is an object of class `Chebfun`:"
   ],
   "metadata": {}
  },
  {
   "cell_type": "code",
   "execution_count": null,
   "source": [
    "type(x)"
   ],
   "outputs": [],
   "metadata": {}
  },
  {
   "cell_type": "markdown",
   "source": [
    "### Fun (yellow)\n",
    "\n",
    "Conceptually, `Chebfun` objects are defined as a collection (numpy array) of Fun objects. One can access these via the `.funs` attribute, and in this example, since our function is globally smooth, our chebfun is composed of single Fun:"
   ],
   "metadata": {}
  },
  {
   "cell_type": "code",
   "execution_count": null,
   "source": [
    "x.funs"
   ],
   "outputs": [],
   "metadata": {}
  },
  {
   "cell_type": "markdown",
   "source": [
    "Fun is an abstract class, so we don't actually see Fun objects per-se, but rather objects further down the inheritance tree. Specifically, we see objects of type `BndFun`, denoting a function defined on a bounded interval.\n",
    "\n",
    "Here's a more interesting function, this time composed of two `Fun` objects and created by inducing a discontinuity via use of the maximum operator:"
   ],
   "metadata": {}
  },
  {
   "cell_type": "code",
   "execution_count": null,
   "source": [
    "f = np.sin(3*x).maximum(-np.sin(x))\n",
    "f"
   ],
   "outputs": [],
   "metadata": {}
  },
  {
   "cell_type": "code",
   "execution_count": null,
   "source": [
    "f.funs"
   ],
   "outputs": [],
   "metadata": {}
  },
  {
   "cell_type": "markdown",
   "source": [
    "The core `Chebfun` class constructor accepts iterable collections of `Fun` objects, and the above chebfun can be recreated as follows:"
   ],
   "metadata": {}
  },
  {
   "cell_type": "code",
   "execution_count": null,
   "source": [
    "from chebpy.core.chebfun import Chebfun\n",
    "Chebfun(f.funs)"
   ],
   "outputs": [],
   "metadata": {}
  },
  {
   "cell_type": "markdown",
   "source": [
    "The Fun objects defining a chebfun must provide a non-overlapping and complete partition of the global approximation interval. ChebPy-specific exceptions will be raised if the user/developer does not properly account for this.\n",
    "\n",
    "To see this, let's break the second Fun into two sub-pieces (using `fun.restrict`) and attempt various reconstruction permutations."
   ],
   "metadata": {}
  },
  {
   "cell_type": "code",
   "execution_count": null,
   "source": [
    "from chebpy.core.utilities import Interval\n",
    "\n",
    "_, a, c = f.breakpoints\n",
    "b = 1\n",
    "fun0 = f.funs[0]\n",
    "fun1 = f.funs[1].restrict(Interval(a,b))\n",
    "fun2 = f.funs[1].restrict(Interval(b,c))\n",
    "fun0.plot(linewidth=3); fun1.plot(linewidth=3); fun2.plot(linewidth=3);\n",
    "plt.show()"
   ],
   "outputs": [],
   "metadata": {}
  },
  {
   "cell_type": "markdown",
   "source": [
    "So, the following works:"
   ],
   "metadata": {}
  },
  {
   "cell_type": "code",
   "execution_count": null,
   "source": [
    "Chebfun([fun0,fun1,fun2])"
   ],
   "outputs": [],
   "metadata": {}
  },
  {
   "cell_type": "markdown",
   "source": [
    "But on the other other hand, the following raises an exception:"
   ],
   "metadata": {}
  },
  {
   "cell_type": "code",
   "execution_count": null,
   "source": [
    "Chebfun([fun0,fun2])"
   ],
   "outputs": [],
   "metadata": {}
  },
  {
   "cell_type": "markdown",
   "source": [
    "So also does this:"
   ],
   "metadata": {}
  },
  {
   "cell_type": "code",
   "execution_count": null,
   "source": [
    "Chebfun([fun0,f.funs[1],fun1])"
   ],
   "outputs": [],
   "metadata": {}
  },
  {
   "cell_type": "markdown",
   "source": [
    "### Onefun (green)\n",
    "\n",
    "A Fun object is defined by the composition of `Onefun` object and an Interval object. A `Onefun` object in ChebPy, as with MATLAB Chebfun, define a set of core approximation behaviour on the unit interval [-1,1]. The computational mechanics of mapping these operations to arbitrary intervals [a,b] is managed, in part, by the a corresponding Interval object.\n",
    "\n",
    "To illustrate, let's take the first component `Fun` from earlier (which was specifically a `Bndfun`):"
   ],
   "metadata": {}
  },
  {
   "cell_type": "code",
   "execution_count": null,
   "source": [
    "f.funs[0]"
   ],
   "outputs": [],
   "metadata": {}
  },
  {
   "cell_type": "markdown",
   "source": [
    "The Onefun and Interval object components are accessed as follows:"
   ],
   "metadata": {}
  },
  {
   "cell_type": "code",
   "execution_count": null,
   "source": [
    "print(f.funs[0].onefun)\n",
    "print(f.funs[0].interval)\n"
   ],
   "outputs": [],
   "metadata": {}
  },
  {
   "cell_type": "markdown",
   "source": [
    "`Onefun` is an abstract class, so what we actually see instantiated is an object of type `Chebtech2`. To see that the `Onefun` object is what is claims to be (a representation defined on the unit-interval), we can plot it (users will rarely do this in practice, but this can nevertheless be a useful feature for developers):"
   ],
   "metadata": {}
  },
  {
   "cell_type": "code",
   "execution_count": null,
   "source": [
    "f.funs[0].onefun.plot(linewidth=3)\n",
    "plt.show()"
   ],
   "outputs": [],
   "metadata": {}
  },
  {
   "cell_type": "markdown",
   "source": [
    "So while the `Onefun` attribute determines approximation behaviour, the interval attribute manages the mapping to and from the approximation interval to [-1,1]. So for instance, one can evaluate the interval object at some set of points in [-1,1] and obtain these values mapped to [a,b]:"
   ],
   "metadata": {}
  },
  {
   "cell_type": "code",
   "execution_count": null,
   "source": [
    "f.funs[0].interval(np.linspace(-1,1,11))"
   ],
   "outputs": [],
   "metadata": {}
  },
  {
   "cell_type": "markdown",
   "source": [
    "## User preferences (`UserPrefs`)\n",
    "\n",
    "The user may want to specify different tolerances, for example if speed is important or the function under consideration is particularly difficult. It is also possible to change default behaviour like plotting."
   ],
   "metadata": {}
  },
  {
   "cell_type": "code",
   "execution_count": null,
   "source": [
    "import chebpy  # import entire module to access lower-level parts\n",
    "\n",
    "chebpy.core.settings.userPrefs.eps = 1e-10  # lower the tolerance in chebpy\n",
    "cheb = chebpy.chebfun(lambda x: x**2)\n",
    "chebpy.core.settings.userPrefs.N_plot = 21  # use fewer points for plotting\n",
    "cheb.plot(marker='x', label='N_plot = 21')\n",
    "chebpy.core.settings.userPrefs.reset('N_plot')  # restore default\n",
    "cheb.plot(label='default N_plot')\n",
    "plt.legend()\n",
    "plt.show()"
   ],
   "outputs": [],
   "metadata": {}
  }
 ],
 "metadata": {
  "orig_nbformat": 4,
  "language_info": {
   "name": "python",
   "version": "3.9.7",
   "mimetype": "text/x-python",
   "codemirror_mode": {
    "name": "ipython",
    "version": 3
   },
   "pygments_lexer": "ipython3",
   "nbconvert_exporter": "python",
   "file_extension": ".py"
  },
  "kernelspec": {
   "name": "python3",
   "display_name": "Python 3.9.7 64-bit ('chebpy': conda)"
  },
  "interpreter": {
   "hash": "85035035b57e46f15db429fd9a3237faa49dcc02f9375b16804f83652610dff7"
  }
 },
 "nbformat": 4,
 "nbformat_minor": 2
}