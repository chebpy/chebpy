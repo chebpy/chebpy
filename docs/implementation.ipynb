{
 "cells": [
  {
   "cell_type": "markdown",
   "metadata": {},
   "source": [
    "# Implementation Notes\n",
    "\n",
    "The internals of ChebPy have been designed to resemble the design structure of MATLAB Chebfun. The Chebfun v5 class diagram thus provides a useful map for understanding how the various pieces of ChebPy fit together (diagram courtesy of the Chebfun team, available [here](https://github.com/chebfun/chebfun/wiki/Class-diagram)):\n",
    "\n",
    "![](./chebfun-v5-class-diag.png)\n"
   ]
  },
  {
   "cell_type": "markdown",
   "metadata": {},
   "source": [
    "At this stage, only a relatively small subset of MATLAB Chebfun has been implemented in ChebPy. In the class diagram above, this consists of all the classes traced by the path going up from from `Chebtech2` (green box in the bottom right), to `Chebfun` (blue box near the top-left). More explicitly, the following classes currently exist in ChebPy:\n",
    "\n",
    "- `Chebfun` ([core/chebfun.py](https://github.com/chebpy/chebpy/blob/master/chebpy/core/chebfun.py))\n",
    "- `Fun` ([core/fun.py](https://github.com/chebpy/chebpy/blob/master/chebpy/core/fun.py))\n",
    "- `Classicfun` ([core/classicfun.py](https://github.com/chebpy/chebpy/blob/master/chebpy/core/classicfun.py))\n",
    "- `Bndfun` ([core/bndfun.py](https://github.com/chebpy/chebpy/blob/master/chebpy/core/bndfun.py))\n",
    "- `Onefun` ([core/onefun.py](https://github.com/chebpy/chebpy/blob/master/chebpy/core/onefun.py))\n",
    "- `Smoothfun` ([core/smoothfun.py](https://github.com/chebpy/chebpy/blob/master/chebpy/core/smoothfun.py))\n",
    "- `Chebtech` ([core/chebtech.py](https://github.com/chebpy/chebpy/blob/master/chebpy/core/chebtech.py))\n",
    "- `Chebtech2` ([core/chebtech.py](https://github.com/chebpy/chebpy/blob/master/chebpy/core/chebtech.py))\n",
    "\n",
    "ChebPy additionally provides the following classes which do not appear in their present form in MATLAB Chebfun:\n",
    "\n",
    "- `Interval` ([core/utilities.py](https://github.com/chebpy/chebpy/blob/master/chebpy/core/utilities.py))\n",
    "- `Domain` ([core/utilities.py](https://github.com/chebpy/chebpy/blob/master/chebpy/core/utilities.py))\n",
    "\n",
    "ChebPy allows the user to override some default preferences, similar to what is available through `chebfunpref` in `Chebfun` (bottom right). Not all options are the same, and chebpy allows additional customisation not found in `Chebfun`.\n",
    "\n",
    "- `UserPrefs` ([core/settings.py](https://github.com/chebpy/chebpy/blob/master/chebpy/core/settings.py))\n",
    "\n",
    "The general rule is that each ChebPy class lives in its own python file."
   ]
  },
  {
   "cell_type": "markdown",
   "metadata": {},
   "source": [
    "One can explore the organisation of the library in practice as follows. We describe the three core components with reference to the colours in the above class diagram."
   ]
  },
  {
   "cell_type": "code",
   "execution_count": 1,
   "metadata": {},
   "outputs": [],
   "source": [
    "import numpy as np\n",
    "import matplotlib.pyplot as plt"
   ]
  },
  {
   "cell_type": "markdown",
   "metadata": {},
   "source": [
    "### Chebfun (blue)\n",
    "\n",
    "We'll start by creating an identity chebfun on an arbitrary non-unit interval:"
   ]
  },
  {
   "cell_type": "code",
   "execution_count": 2,
   "metadata": {},
   "outputs": [
    {
     "data": {
      "text/plain": [
       "chebfun column (1 smooth piece)\n",
       "       interval       length     endpoint values\n",
       "[      -2,       3]        2        -2        3\n",
       "vertical scale =   3"
      ]
     },
     "execution_count": 2,
     "metadata": {},
     "output_type": "execute_result"
    }
   ],
   "source": [
    "from chebpy import chebfun\n",
    "\n",
    "x = chebfun('x', [-2, 3])\n",
    "x"
   ]
  },
  {
   "cell_type": "markdown",
   "metadata": {},
   "source": [
    "This variable is an object of class `Chebfun`:"
   ]
  },
  {
   "cell_type": "code",
   "execution_count": 3,
   "metadata": {},
   "outputs": [
    {
     "data": {
      "text/plain": [
       "chebpy.core.chebfun.Chebfun"
      ]
     },
     "execution_count": 3,
     "metadata": {},
     "output_type": "execute_result"
    }
   ],
   "source": [
    "type(x)"
   ]
  },
  {
   "cell_type": "markdown",
   "metadata": {},
   "source": [
    "### Fun (yellow)\n",
    "\n",
    "Conceptually, `Chebfun` objects are defined as a collection (numpy array) of Fun objects. One can access these via the `.funs` attribute, and in this example, since our function is globally smooth, our chebfun is composed of single Fun:"
   ]
  },
  {
   "cell_type": "code",
   "execution_count": 4,
   "metadata": {},
   "outputs": [
    {
     "data": {
      "text/plain": [
       "array([Bndfun([-2.0, 3.0], 2)], dtype=object)"
      ]
     },
     "execution_count": 4,
     "metadata": {},
     "output_type": "execute_result"
    }
   ],
   "source": [
    "x.funs"
   ]
  },
  {
   "cell_type": "markdown",
   "metadata": {},
   "source": [
    "Fun is an abstract class, so we don't actually see Fun objects per-se, but rather objects further down the inheritance tree. Specifically, we see objects of type `BndFun`, denoting a function defined on a bounded interval.\n",
    "\n",
    "Here's a piecewise smooth function created by inducing a discontinuity via use of the maximum operator."
   ]
  },
  {
   "cell_type": "code",
   "execution_count": 5,
   "metadata": {},
   "outputs": [
    {
     "data": {
      "text/plain": [
       "chebfun column (2 smooth pieces)\n",
       "       interval       length     endpoint values\n",
       "[      -2,-2.2e-16]       20      0.91  2.8e-17\n",
       "[-2.2e-16,       3]       20  -1.1e-16     0.14\n",
       "vertical scale =   1    total length = 40"
      ]
     },
     "execution_count": 5,
     "metadata": {},
     "output_type": "execute_result"
    }
   ],
   "source": [
    "f = np.sin(x).maximum(-np.sin(x))\n",
    "f"
   ]
  },
  {
   "cell_type": "markdown",
   "metadata": {},
   "source": [
    "Here the representation consists of two `Fun` objects:"
   ]
  },
  {
   "cell_type": "code",
   "execution_count": 6,
   "metadata": {},
   "outputs": [
    {
     "data": {
      "text/plain": [
       "array([Bndfun([-2.0, -2.220446049250313e-16], 20),\n",
       "       Bndfun([-2.220446049250313e-16, 3.0], 20)], dtype=object)"
      ]
     },
     "execution_count": 6,
     "metadata": {},
     "output_type": "execute_result"
    }
   ],
   "source": [
    "f.funs"
   ]
  },
  {
   "cell_type": "markdown",
   "metadata": {},
   "source": [
    "The core `Chebfun` class constructor accepts iterable collections of `Fun` objects, and the above chebfun can be recreated as follows:"
   ]
  },
  {
   "cell_type": "code",
   "execution_count": 7,
   "metadata": {},
   "outputs": [
    {
     "data": {
      "text/plain": [
       "chebfun column (2 smooth pieces)\n",
       "       interval       length     endpoint values\n",
       "[      -2,-2.2e-16]       20      0.91  2.8e-17\n",
       "[-2.2e-16,       3]       20  -1.1e-16     0.14\n",
       "vertical scale =   1    total length = 40"
      ]
     },
     "execution_count": 7,
     "metadata": {},
     "output_type": "execute_result"
    }
   ],
   "source": [
    "from chebpy.core.chebfun import Chebfun\n",
    "Chebfun(f.funs)"
   ]
  },
  {
   "cell_type": "markdown",
   "metadata": {},
   "source": [
    "The Fun objects defining a chebfun must provide a non-overlapping and complete partition of the global approximation interval. ChebPy-specific exceptions will be raised if the user/developer does not properly account for this.\n",
    "\n",
    "To see this, let's break the second Fun into two sub-pieces (using `fun.restrict`) and attempt various reconstruction permutations."
   ]
  },
  {
   "cell_type": "code",
   "execution_count": 8,
   "metadata": {},
   "outputs": [
    {
     "data": {
      "text/plain": [
       "array([-2.00000000e+00, -2.22044605e-16,  3.00000000e+00])"
      ]
     },
     "execution_count": 8,
     "metadata": {},
     "output_type": "execute_result"
    }
   ],
   "source": [
    "f.breakpoints"
   ]
  },
  {
   "cell_type": "code",
   "execution_count": 9,
   "metadata": {},
   "outputs": [
    {
     "data": {
      "image/png": "[encoded data removed]",
      "text/plain": [
       "<Figure size 432x288 with 1 Axes>"
      ]
     },
     "metadata": {
      "needs_background": "light"
     },
     "output_type": "display_data"
    }
   ],
   "source": [
    "from chebpy.core.utilities import Interval\n",
    "\n",
    "_, a, c = f.breakpoints\n",
    "b = 1\n",
    "fun0 = f.funs[0]\n",
    "fun1 = f.funs[1].restrict(Interval(a,b))\n",
    "fun2 = f.funs[1].restrict(Interval(b,c))\n",
    "fun0.plot(linewidth=3); fun1.plot(linewidth=3); fun2.plot(linewidth=3);\n",
    "plt.show()"
   ]
  },
  {
   "cell_type": "markdown",
   "metadata": {},
   "source": [
    "So, the following works:"
   ]
  },
  {
   "cell_type": "code",
   "execution_count": 10,
   "metadata": {},
   "outputs": [
    {
     "data": {
      "text/plain": [
       "chebfun column (3 smooth pieces)\n",
       "       interval       length     endpoint values\n",
       "[      -2,-2.2e-16]       20      0.91  2.8e-17\n",
       "[-2.2e-16,       1]       20  -2.3e-16     0.84\n",
       "[       1,       3]       20      0.84     0.14\n",
       "vertical scale =   1    total length = 60"
      ]
     },
     "execution_count": 10,
     "metadata": {},
     "output_type": "execute_result"
    }
   ],
   "source": [
    "Chebfun([fun0, fun1, fun2])"
   ]
  },
  {
   "cell_type": "markdown",
   "metadata": {},
   "source": [
    "However, the following will raise an exception:\n",
    "\n",
    "```\n",
    ">> Chebfun([fun0, fun2])\n",
    "IntervalGap: The supplied Interval objects do not form a complete partition of the approximation interval\n",
    "```\n",
    "\n",
    "As will:\n",
    "\n",
    "```\n",
    ">> Chebfun([fun0, f.funs[1], fun1])\n",
    "IntervalOverlap: The supplied Interval objects overlap\n",
    "```"
   ]
  },
  {
   "cell_type": "markdown",
   "metadata": {},
   "source": [
    "### Onefun (green)\n",
    "\n",
    "A Fun object is defined by the composition of `Onefun` object and an Interval object. A `Onefun` object in ChebPy, as with MATLAB Chebfun, define a set of core approximation behaviour on the unit interval [-1,1]. The computational mechanics of mapping these operations to arbitrary intervals [a,b] is managed, in part, by the a corresponding Interval object.\n",
    "\n",
    "To illustrate, let's take the first component `Fun` from earlier (which was specifically a `Bndfun`):"
   ]
  },
  {
   "cell_type": "code",
   "execution_count": 11,
   "metadata": {},
   "outputs": [
    {
     "data": {
      "text/plain": [
       "Bndfun([-2.0, -2.220446049250313e-16], 20)"
      ]
     },
     "execution_count": 11,
     "metadata": {},
     "output_type": "execute_result"
    }
   ],
   "source": [
    "f.funs[0]"
   ]
  },
  {
   "cell_type": "markdown",
   "metadata": {},
   "source": [
    "The Onefun and Interval object components are accessed as follows:"
   ]
  },
  {
   "cell_type": "code",
   "execution_count": 12,
   "metadata": {},
   "outputs": [
    {
     "data": {
      "text/plain": [
       "(<Chebtech2{20}>, Interval([-2.00000000e+00, -2.22044605e-16]))"
      ]
     },
     "execution_count": 12,
     "metadata": {},
     "output_type": "execute_result"
    }
   ],
   "source": [
    "f.funs[0].onefun, f.funs[0].interval"
   ]
  },
  {
   "cell_type": "markdown",
   "metadata": {},
   "source": [
    "`Onefun` is an abstract class, so what we actually see instantiated is an object of type `Chebtech2`. To see that the `Onefun` object is what is claims to be (a representation defined on the unit-interval), we can plot it (users will rarely do this in practice, but this can nevertheless be a useful feature for developers):"
   ]
  },
  {
   "cell_type": "code",
   "execution_count": 13,
   "metadata": {},
   "outputs": [
    {
     "data": {
      "image/png": "[encoded data removed]",
      "text/plain": [
       "<Figure size 432x288 with 1 Axes>"
      ]
     },
     "metadata": {
      "needs_background": "light"
     },
     "output_type": "display_data"
    }
   ],
   "source": [
    "f.funs[0].onefun.plot(linewidth=3)\n",
    "plt.show()"
   ]
  },
  {
   "cell_type": "markdown",
   "metadata": {},
   "source": [
    "So while the `Onefun` attribute determines approximation behaviour, the interval attribute manages the mapping to and from the approximation interval to [-1,1]. So for instance, one can evaluate the interval object at some set of points in [-1,1] and obtain these values mapped to [a,b]:"
   ]
  },
  {
   "cell_type": "code",
   "execution_count": 14,
   "metadata": {},
   "outputs": [
    {
     "data": {
      "text/plain": [
       "array([-2.00000000e+00, -1.80000000e+00, -1.60000000e+00, -1.40000000e+00,\n",
       "       -1.20000000e+00, -1.00000000e+00, -8.00000000e-01, -6.00000000e-01,\n",
       "       -4.00000000e-01, -2.00000000e-01, -2.22044605e-16])"
      ]
     },
     "execution_count": 14,
     "metadata": {},
     "output_type": "execute_result"
    }
   ],
   "source": [
    "f.funs[0].interval(np.linspace(-1,1,11))"
   ]
  },
  {
   "cell_type": "markdown",
   "metadata": {},
   "source": [
    "## User preferences (`UserPrefs`)\n",
    "\n",
    "The user may want to specify different tolerances, for example if speed is important or the function under consideration is particularly difficult. It is also possible to change default behaviour like plotting."
   ]
  },
  {
   "cell_type": "code",
   "execution_count": 15,
   "metadata": {},
   "outputs": [
    {
     "data": {
      "image/png": "[encoded data removed]",
      "text/plain": [
       "<Figure size 432x288 with 1 Axes>"
      ]
     },
     "metadata": {
      "needs_background": "light"
     },
     "output_type": "display_data"
    }
   ],
   "source": [
    "import chebpy  # import entire module to access lower-level parts\n",
    "\n",
    "chebpy.core.settings.userPrefs.eps = 1e-10  # lower the tolerance in chebpy\n",
    "cheb = chebpy.chebfun(lambda x: x**2)\n",
    "chebpy.core.settings.userPrefs.N_plot = 21  # use fewer points for plotting\n",
    "cheb.plot(marker='x', label='N_plot = 21')\n",
    "chebpy.core.settings.userPrefs.reset('N_plot')  # restore default\n",
    "cheb.plot(label='default N_plot')\n",
    "plt.legend()\n",
    "plt.show()"
   ]
  }
 ],
 "metadata": {
  "interpreter": {
   "hash": "85035035b57e46f15db429fd9a3237faa49dcc02f9375b16804f83652610dff7"
  },
  "kernelspec": {
   "display_name": "Python 3",
   "language": "python",
   "name": "python3"
  },
  "language_info": {
   "codemirror_mode": {
    "name": "ipython",
    "version": 3
   },
   "file_extension": ".py",
   "mimetype": "text/x-python",
   "name": "python",
   "nbconvert_exporter": "python",
   "pygments_lexer": "ipython3",
   "version": "3.7.6"
  }
 },
 "nbformat": 4,
 "nbformat_minor": 2
}
